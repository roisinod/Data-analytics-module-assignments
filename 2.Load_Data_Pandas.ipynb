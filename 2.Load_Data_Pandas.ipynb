{
 "cells": [
  {
   "cell_type": "markdown",
   "metadata": {},
   "source": [
    "<h1>Introduction to Pandas Python</h1>"
   ]
  },
  {
   "cell_type": "markdown",
   "metadata": {},
   "source": [
    "<p><strong>Welcome!</strong> In this notebook you will practice about using <code>Pandas</code> in the Python Programming Language. By the end of this lab, you'll know how to use <code>Pandas</code> package to view and access data.</p>"
   ]
  },
  {
   "cell_type": "markdown",
   "metadata": {},
   "source": [
    "<h2>Table of Contents</h2>\n",
    "<div class=\"alert alert-block alert-info\" style=\"margin-top: 20px\">\n",
    "    <ul>\n",
    "        <li><a href=\"dataset\">About the Dataset</a></li>\n",
    "        <li><a href=\"pandas\">Introduction of <code>Pandas</code></a></li>\n",
    "        <li><a href=\"data\">Viewing Data and Accessing Data</a></li>\n",
    "        <li><a href=\"quiz\">Quiz on DataFrame</a></li>\n",
    "    </ul>\n",
    "\n",
    "</div>\n",
    "\n",
    "<hr>"
   ]
  },
  {
   "cell_type": "markdown",
   "metadata": {},
   "source": [
    "<h2 id=\"dataset\">About the Dataset</h2>"
   ]
  },
  {
   "cell_type": "markdown",
   "metadata": {},
   "source": [
    "The file TopSellingAlbums has a table that has one row for each album and several columns\n",
    "\n",
    "<ul>\n",
    "    <li><b>artist</b>: Name of the artist</li>\n",
    "    <li><b>album</b>: Name of the album</li>\n",
    "    <li><b>released_year</b>: Year the album was released</li>\n",
    "    <li><b>length_min_sec</b>: Length of the album (hours,minutes,seconds)</li>\n",
    "    <li><b>genre</b>: Genre of the album</li>\n",
    "    <li><b>music_recording_sales_millions</b>: Music recording sales (millions in USD) on <a href=\"http://www.song-database.com/\">[SONG://DATABASE]</a></li>\n",
    "    <li><b>claimed_sales_millions</b>: Album's claimed sales (millions in USD) on <a href=\"http://www.song-database.com/\">[SONG://DATABASE]</a></li>\n",
    "    <li><b>date_released</b>: Date on which the album was released</li>\n",
    "    <li><b>soundtrack</b>: Indicates if the album is the movie soundtrack (Y) or (N)</li>\n",
    "    <li><b>rating_of_friends</b>: Indicates the rating from your friends from 1 to 10</li>\n",
    "</ul>\n",
    "\n"
   ]
  },
  {
   "cell_type": "markdown",
   "metadata": {},
   "source": [
    "<hr>"
   ]
  },
  {
   "cell_type": "markdown",
   "metadata": {},
   "source": [
    "<h2 id=\"pandas\">Introduction of <code>Pandas</code></h2>"
   ]
  },
  {
   "cell_type": "code",
   "execution_count": 1,
   "metadata": {},
   "outputs": [],
   "source": [
    "# Import required library\n",
    "\n",
    "import pandas as pd"
   ]
  },
  {
   "cell_type": "markdown",
   "metadata": {},
   "source": [
    "After the import command, we now have access to a large number of pre-built classes and functions. This assumes the library is installed; in our lab environment all the necessary libraries are installed. One way pandas allows you to work with data is a dataframe. Let's go through the process to go from a comma separated values (<b>.csv</b>) file to a dataframe. This variable <code>csv_path</code> stores the path of the <b>.csv</b>, that is  used as an argument to the <code>read_csv</code> function. The result is stored in the object <code>df</code>, this is a common short form used for a variable referring to a Pandas dataframe. "
   ]
  },
  {
   "cell_type": "code",
   "execution_count": 2,
   "metadata": {
    "scrolled": true
   },
   "outputs": [],
   "source": [
    "# Read data from the CSV file TopSellingAlbums.csv\n",
    "\n",
    "df = pd.read_csv('TopSellingAlbums.csv')"
   ]
  },
  {
   "cell_type": "markdown",
   "metadata": {},
   "source": [
    "We can use the method <code>head()</code> to examine the first five rows of a dataframe: "
   ]
  },
  {
   "cell_type": "code",
   "execution_count": 3,
   "metadata": {},
   "outputs": [
    {
     "data": {
      "text/html": [
       "<div>\n",
       "<style scoped>\n",
       "    .dataframe tbody tr th:only-of-type {\n",
       "        vertical-align: middle;\n",
       "    }\n",
       "\n",
       "    .dataframe tbody tr th {\n",
       "        vertical-align: top;\n",
       "    }\n",
       "\n",
       "    .dataframe thead th {\n",
       "        text-align: right;\n",
       "    }\n",
       "</style>\n",
       "<table border=\"1\" class=\"dataframe\">\n",
       "  <thead>\n",
       "    <tr style=\"text-align: right;\">\n",
       "      <th></th>\n",
       "      <th>Artist</th>\n",
       "      <th>Album</th>\n",
       "      <th>Released</th>\n",
       "      <th>Length</th>\n",
       "      <th>Genre</th>\n",
       "      <th>Music Recording Sales (millions)</th>\n",
       "      <th>Claimed Sales (millions)</th>\n",
       "      <th>Released.1</th>\n",
       "      <th>Soundtrack</th>\n",
       "      <th>Rating</th>\n",
       "    </tr>\n",
       "  </thead>\n",
       "  <tbody>\n",
       "    <tr>\n",
       "      <th>0</th>\n",
       "      <td>Michael Jackson</td>\n",
       "      <td>Thriller</td>\n",
       "      <td>1982</td>\n",
       "      <td>0:42:19</td>\n",
       "      <td>pop, rock, R&amp;B</td>\n",
       "      <td>46.0</td>\n",
       "      <td>65</td>\n",
       "      <td>30-Nov-82</td>\n",
       "      <td>NaN</td>\n",
       "      <td>10.0</td>\n",
       "    </tr>\n",
       "    <tr>\n",
       "      <th>1</th>\n",
       "      <td>AC/DC</td>\n",
       "      <td>Back in Black</td>\n",
       "      <td>1980</td>\n",
       "      <td>0:42:11</td>\n",
       "      <td>hard rock</td>\n",
       "      <td>26.1</td>\n",
       "      <td>50</td>\n",
       "      <td>25-Jul-80</td>\n",
       "      <td>NaN</td>\n",
       "      <td>9.5</td>\n",
       "    </tr>\n",
       "    <tr>\n",
       "      <th>2</th>\n",
       "      <td>Pink Floyd</td>\n",
       "      <td>The Dark Side of the Moon</td>\n",
       "      <td>1973</td>\n",
       "      <td>0:42:49</td>\n",
       "      <td>progressive rock</td>\n",
       "      <td>24.2</td>\n",
       "      <td>45</td>\n",
       "      <td>01-Mar-73</td>\n",
       "      <td>NaN</td>\n",
       "      <td>9.0</td>\n",
       "    </tr>\n",
       "    <tr>\n",
       "      <th>3</th>\n",
       "      <td>Whitney Houston</td>\n",
       "      <td>The Bodyguard</td>\n",
       "      <td>1992</td>\n",
       "      <td>0:57:44</td>\n",
       "      <td>R&amp;B, soul, pop</td>\n",
       "      <td>27.4</td>\n",
       "      <td>44</td>\n",
       "      <td>17-Nov-92</td>\n",
       "      <td>Y</td>\n",
       "      <td>8.5</td>\n",
       "    </tr>\n",
       "    <tr>\n",
       "      <th>4</th>\n",
       "      <td>Meat Loaf</td>\n",
       "      <td>Bat Out of Hell</td>\n",
       "      <td>1977</td>\n",
       "      <td>0:46:33</td>\n",
       "      <td>hard rock, progressive rock</td>\n",
       "      <td>20.6</td>\n",
       "      <td>43</td>\n",
       "      <td>21-Oct-77</td>\n",
       "      <td>NaN</td>\n",
       "      <td>8.0</td>\n",
       "    </tr>\n",
       "  </tbody>\n",
       "</table>\n",
       "</div>"
      ],
      "text/plain": [
       "            Artist                      Album  Released   Length  \\\n",
       "0  Michael Jackson                   Thriller      1982  0:42:19   \n",
       "1            AC/DC              Back in Black      1980  0:42:11   \n",
       "2       Pink Floyd  The Dark Side of the Moon      1973  0:42:49   \n",
       "3  Whitney Houston              The Bodyguard      1992  0:57:44   \n",
       "4        Meat Loaf            Bat Out of Hell      1977  0:46:33   \n",
       "\n",
       "                         Genre  Music Recording Sales (millions)  \\\n",
       "0               pop, rock, R&B                              46.0   \n",
       "1                    hard rock                              26.1   \n",
       "2             progressive rock                              24.2   \n",
       "3               R&B, soul, pop                              27.4   \n",
       "4  hard rock, progressive rock                              20.6   \n",
       "\n",
       "   Claimed Sales (millions) Released.1 Soundtrack  Rating  \n",
       "0                        65  30-Nov-82        NaN    10.0  \n",
       "1                        50  25-Jul-80        NaN     9.5  \n",
       "2                        45  01-Mar-73        NaN     9.0  \n",
       "3                        44  17-Nov-92          Y     8.5  \n",
       "4                        43  21-Oct-77        NaN     8.0  "
      ]
     },
     "execution_count": 3,
     "metadata": {},
     "output_type": "execute_result"
    }
   ],
   "source": [
    "# Print first five rows of the dataframe\n",
    "\n",
    "df.head(5)"
   ]
  },
  {
   "cell_type": "markdown",
   "metadata": {},
   "source": [
    " We use the path of the excel file and the function <code>read_excel</code>. The result is a data frame as before:"
   ]
  },
  {
   "cell_type": "code",
   "execution_count": 4,
   "metadata": {},
   "outputs": [],
   "source": [
    "# Read data from the Excel File TopSellingAlbums.xlsx and print the first five rows\n",
    "df = pd.read_excel('TopSellingAlbums.xlsx')"
   ]
  },
  {
   "cell_type": "markdown",
   "metadata": {},
   "source": [
    "We can access the column <b>Length</b> and assign it a new dataframe <b>x</b>:"
   ]
  },
  {
   "cell_type": "code",
   "execution_count": 8,
   "metadata": {},
   "outputs": [
    {
     "name": "stdout",
     "output_type": "stream",
     "text": [
      "0    00:42:19\n",
      "1    00:42:11\n",
      "2    00:42:49\n",
      "3    00:57:44\n",
      "4    00:46:33\n",
      "5    00:43:08\n",
      "6    01:15:54\n",
      "7    00:40:01\n",
      "Name: Length, dtype: object\n",
      "     Length\n",
      "0  00:42:19\n",
      "1  00:42:11\n",
      "2  00:42:49\n",
      "3  00:57:44\n",
      "4  00:46:33\n",
      "5  00:43:08\n",
      "6  01:15:54\n",
      "7  00:40:01\n"
     ]
    }
   ],
   "source": [
    "# Access to the column Length\n",
    "print(df['Length'])\n",
    "x = df[['Length']]\n",
    "print(x)"
   ]
  },
  {
   "cell_type": "markdown",
   "metadata": {},
   "source": [
    "<hr>"
   ]
  },
  {
   "cell_type": "markdown",
   "metadata": {},
   "source": [
    "<h2 id=\"data\">Viewing Data and Accessing Data</h2>"
   ]
  },
  {
   "cell_type": "markdown",
   "metadata": {},
   "source": [
    "You can also get a column as a series. You can think of a Pandas series as a 1-D dataframe. Just use one bracket: "
   ]
  },
  {
   "cell_type": "code",
   "execution_count": 9,
   "metadata": {},
   "outputs": [
    {
     "name": "stdout",
     "output_type": "stream",
     "text": [
      "0    00:42:19\n",
      "1    00:42:11\n",
      "2    00:42:49\n",
      "3    00:57:44\n",
      "4    00:46:33\n",
      "5    00:43:08\n",
      "6    01:15:54\n",
      "7    00:40:01\n",
      "Name: Length, dtype: object\n",
      "0    00:42:19\n",
      "1    00:42:11\n",
      "2    00:42:49\n",
      "3    00:57:44\n",
      "4    00:46:33\n",
      "5    00:43:08\n",
      "6    01:15:54\n",
      "7    00:40:01\n",
      "Name: Length, dtype: object\n"
     ]
    }
   ],
   "source": [
    "# Get the column \"Lenght\" as a series\n",
    "\n",
    "x = df['Length']\n",
    "print(x)"
   ]
  },
  {
   "cell_type": "markdown",
   "metadata": {},
   "source": [
    "You can also get a column as a dataframe. For example, we can assign the column <b>Artist</b>:"
   ]
  },
  {
   "cell_type": "code",
   "execution_count": 10,
   "metadata": {},
   "outputs": [
    {
     "name": "stdout",
     "output_type": "stream",
     "text": [
      "0    Michael Jackson\n",
      "1              AC/DC\n",
      "2         Pink Floyd\n",
      "3    Whitney Houston\n",
      "4          Meat Loaf\n",
      "5             Eagles\n",
      "6           Bee Gees\n",
      "7      Fleetwood Mac\n",
      "Name: Artist, dtype: object\n",
      "            Artist\n",
      "0  Michael Jackson\n",
      "1            AC/DC\n",
      "2       Pink Floyd\n",
      "3  Whitney Houston\n",
      "4        Meat Loaf\n",
      "5           Eagles\n",
      "6         Bee Gees\n",
      "7    Fleetwood Mac\n"
     ]
    }
   ],
   "source": [
    "# Get the column \"Artist\" as a dataframe\n",
    "print(df['Artist'])\n",
    "dfartist = df[['Artist']]\n",
    "print(dfartist)"
   ]
  },
  {
   "cell_type": "markdown",
   "metadata": {},
   "source": [
    "You can do the same thing for multiple columns and obtain as result a new dataframe comprised of the specified columns:"
   ]
  },
  {
   "cell_type": "code",
   "execution_count": 31,
   "metadata": {},
   "outputs": [
    {
     "name": "stdout",
     "output_type": "stream",
     "text": [
      "     Length           Artist                        Genre\n",
      "0  00:42:19  Michael Jackson               pop, rock, R&B\n",
      "1  00:42:11            AC/DC                    hard rock\n",
      "2  00:42:49       Pink Floyd             progressive rock\n",
      "3  00:57:44  Whitney Houston               R&B, soul, pop\n",
      "4  00:46:33        Meat Loaf  hard rock, progressive rock\n",
      "5  00:43:08           Eagles   rock, soft rock, folk rock\n",
      "6  01:15:54         Bee Gees                        disco\n",
      "7  00:40:01    Fleetwood Mac                    soft rock\n"
     ]
    }
   ],
   "source": [
    "# Access to multiple columns: Lenght, Artist and Genre\n",
    "print(df[['Length','Artist', 'Genre']])\n",
    "\n"
   ]
  },
  {
   "cell_type": "markdown",
   "metadata": {},
   "source": [
    "You can also access to unique elements (check slides for more info). You can access the 1st row and the 1st column as follows:"
   ]
  },
  {
   "cell_type": "code",
   "execution_count": 39,
   "metadata": {},
   "outputs": [
    {
     "data": {
      "text/plain": [
       "Artist    Michael Jackson\n",
       "Name: 0, dtype: object"
      ]
     },
     "execution_count": 39,
     "metadata": {},
     "output_type": "execute_result"
    }
   ],
   "source": [
    "# Access the value on the first row and the first column\n",
    "#print(df.values[0][0])\n",
    "df.iloc[0,[0]]\n",
    "#df.head(5)"
   ]
  },
  {
   "cell_type": "markdown",
   "metadata": {},
   "source": [
    "You can access the 2nd row and the 1st column as follows:"
   ]
  },
  {
   "cell_type": "code",
   "execution_count": 38,
   "metadata": {},
   "outputs": [
    {
     "data": {
      "text/plain": [
       "Artist    AC/DC\n",
       "Name: 1, dtype: object"
      ]
     },
     "execution_count": 38,
     "metadata": {},
     "output_type": "execute_result"
    }
   ],
   "source": [
    "# Access the value on the second row and the first column\n",
    "df.iloc[1,[0]]\n",
    "#df.head(5)"
   ]
  },
  {
   "cell_type": "markdown",
   "metadata": {},
   "source": [
    "You can access the 1st row and the 3rd column as follows: "
   ]
  },
  {
   "cell_type": "code",
   "execution_count": 41,
   "metadata": {
    "scrolled": true
   },
   "outputs": [
    {
     "data": {
      "text/plain": [
       "Released    1982\n",
       "Name: 0, dtype: object"
      ]
     },
     "execution_count": 41,
     "metadata": {},
     "output_type": "execute_result"
    }
   ],
   "source": [
    "# Access the value on the first row and the third column\n",
    "\n",
    "df.iloc[0,[2]]\n",
    "#df.head(5)"
   ]
  },
  {
   "cell_type": "markdown",
   "metadata": {},
   "source": [
    "You can access the column using the name as well, write the following, which have to be the same as above, but specifying the name of the column, rather than the number of the column: "
   ]
  },
  {
   "cell_type": "code",
   "execution_count": 15,
   "metadata": {},
   "outputs": [
    {
     "data": {
      "text/plain": [
       "Artist    Michael Jackson\n",
       "Name: 0, dtype: object"
      ]
     },
     "execution_count": 15,
     "metadata": {},
     "output_type": "execute_result"
    }
   ],
   "source": [
    "# Access the column using the name\n",
    "#print(df.['Artist'])\n",
    "df.loc[0,['Artist']]\n",
    "\n"
   ]
  },
  {
   "cell_type": "code",
   "execution_count": 16,
   "metadata": {},
   "outputs": [
    {
     "data": {
      "text/plain": [
       "Artist    AC/DC\n",
       "Name: 1, dtype: object"
      ]
     },
     "execution_count": 16,
     "metadata": {},
     "output_type": "execute_result"
    }
   ],
   "source": [
    "# Access the column using the name\n",
    "#e 2nd row and the 1st column as follow\n",
    "df.loc[1,['Artist']]"
   ]
  },
  {
   "cell_type": "code",
   "execution_count": 44,
   "metadata": {},
   "outputs": [
    {
     "data": {
      "text/plain": [
       "Released    1982\n",
       "Name: 0, dtype: object"
      ]
     },
     "execution_count": 44,
     "metadata": {},
     "output_type": "execute_result"
    }
   ],
   "source": [
    "# Access the column using the name\n",
    " #1st row and the 3rd column as follows:\n",
    "df.loc[0, ['Released']]\n"
   ]
  },
  {
   "cell_type": "code",
   "execution_count": 15,
   "metadata": {},
   "outputs": [],
   "source": [
    "# Access the column using the name\n",
    "\n"
   ]
  },
  {
   "cell_type": "markdown",
   "metadata": {},
   "source": [
    "You can perform slicing using both the index and the name of the column:"
   ]
  },
  {
   "cell_type": "code",
   "execution_count": 63,
   "metadata": {},
   "outputs": [
    {
     "data": {
      "text/html": [
       "<div>\n",
       "<style scoped>\n",
       "    .dataframe tbody tr th:only-of-type {\n",
       "        vertical-align: middle;\n",
       "    }\n",
       "\n",
       "    .dataframe tbody tr th {\n",
       "        vertical-align: top;\n",
       "    }\n",
       "\n",
       "    .dataframe thead th {\n",
       "        text-align: right;\n",
       "    }\n",
       "</style>\n",
       "<table border=\"1\" class=\"dataframe\">\n",
       "  <thead>\n",
       "    <tr style=\"text-align: right;\">\n",
       "      <th></th>\n",
       "      <th>Artist</th>\n",
       "      <th>Album</th>\n",
       "      <th>Released</th>\n",
       "    </tr>\n",
       "  </thead>\n",
       "  <tbody>\n",
       "    <tr>\n",
       "      <th>0</th>\n",
       "      <td>Michael Jackson</td>\n",
       "      <td>Thriller</td>\n",
       "      <td>1982</td>\n",
       "    </tr>\n",
       "    <tr>\n",
       "      <th>1</th>\n",
       "      <td>AC/DC</td>\n",
       "      <td>Back in Black</td>\n",
       "      <td>1980</td>\n",
       "    </tr>\n",
       "  </tbody>\n",
       "</table>\n",
       "</div>"
      ],
      "text/plain": [
       "            Artist          Album  Released\n",
       "0  Michael Jackson       Thriller      1982\n",
       "1            AC/DC  Back in Black      1980"
      ]
     },
     "execution_count": 63,
     "metadata": {},
     "output_type": "execute_result"
    }
   ],
   "source": [
    "# Slicing the dataframe by accessing to the first 2 rows and first 3 columns\n",
    "df.iloc[0:2, 0:3]\n",
    "#print(df.loc[0:1], df.[0:1])\n",
    "#print(df.columns.get_loc(\"Artist\"))\n",
    "#df.head(5)\n"
   ]
  },
  {
   "cell_type": "code",
   "execution_count": 46,
   "metadata": {},
   "outputs": [
    {
     "data": {
      "text/html": [
       "<div>\n",
       "<style scoped>\n",
       "    .dataframe tbody tr th:only-of-type {\n",
       "        vertical-align: middle;\n",
       "    }\n",
       "\n",
       "    .dataframe tbody tr th {\n",
       "        vertical-align: top;\n",
       "    }\n",
       "\n",
       "    .dataframe thead th {\n",
       "        text-align: right;\n",
       "    }\n",
       "</style>\n",
       "<table border=\"1\" class=\"dataframe\">\n",
       "  <thead>\n",
       "    <tr style=\"text-align: right;\">\n",
       "      <th></th>\n",
       "      <th>Artist</th>\n",
       "      <th>Album</th>\n",
       "      <th>Released</th>\n",
       "    </tr>\n",
       "  </thead>\n",
       "  <tbody>\n",
       "    <tr>\n",
       "      <th>0</th>\n",
       "      <td>Michael Jackson</td>\n",
       "      <td>Thriller</td>\n",
       "      <td>1982</td>\n",
       "    </tr>\n",
       "    <tr>\n",
       "      <th>1</th>\n",
       "      <td>AC/DC</td>\n",
       "      <td>Back in Black</td>\n",
       "      <td>1980</td>\n",
       "    </tr>\n",
       "    <tr>\n",
       "      <th>2</th>\n",
       "      <td>Pink Floyd</td>\n",
       "      <td>The Dark Side of the Moon</td>\n",
       "      <td>1973</td>\n",
       "    </tr>\n",
       "  </tbody>\n",
       "</table>\n",
       "</div>"
      ],
      "text/plain": [
       "            Artist                      Album  Released\n",
       "0  Michael Jackson                   Thriller      1982\n",
       "1            AC/DC              Back in Black      1980\n",
       "2       Pink Floyd  The Dark Side of the Moon      1973"
      ]
     },
     "execution_count": 46,
     "metadata": {},
     "output_type": "execute_result"
    }
   ],
   "source": [
    "# Slicing the dataframe using name by accessing to the first 3 rows and first 3 columns \n",
    "# but specifying the name of the column, rather than the number of the column:\n",
    "df.loc[0:2, ['Artist', 'Album', 'Released']]\n",
    "\n"
   ]
  },
  {
   "cell_type": "markdown",
   "metadata": {},
   "source": [
    "<hr>"
   ]
  },
  {
   "cell_type": "markdown",
   "metadata": {},
   "source": [
    "<h2 id=\"quiz\">Quiz on DataFrame</h2>"
   ]
  },
  {
   "cell_type": "markdown",
   "metadata": {},
   "source": [
    "Use a variable <code>q</code> to store the column <b>Rating</b> as a dataframe"
   ]
  },
  {
   "cell_type": "code",
   "execution_count": 20,
   "metadata": {},
   "outputs": [
    {
     "name": "stdout",
     "output_type": "stream",
     "text": [
      "0    10.0\n",
      "1     9.5\n",
      "2     9.0\n",
      "3     8.5\n",
      "4     8.0\n",
      "5     7.5\n",
      "6     7.0\n",
      "7     6.5\n",
      "Name: Rating, dtype: float64\n"
     ]
    }
   ],
   "source": [
    "# Write your code below and press Shift+Enter to execute\n",
    "\n",
    "q = df[['Rating']]\n",
    "print(q)\n",
    "#print(df.head(5))"
   ]
  },
  {
   "cell_type": "markdown",
   "metadata": {},
   "source": [
    "Assign the variable <code>q</code> to the dataframe that is made up of the column <b>Released</b> and <b>Artist</b>:"
   ]
  },
  {
   "cell_type": "code",
   "execution_count": 21,
   "metadata": {},
   "outputs": [
    {
     "name": "stdout",
     "output_type": "stream",
     "text": [
      "(0    1982\n",
      "1    1980\n",
      "2    1973\n",
      "3    1992\n",
      "4    1977\n",
      "5    1976\n",
      "6    1977\n",
      "7    1977\n",
      "Name: Released, dtype: int64, 0    Michael Jackson\n",
      "1              AC/DC\n",
      "2         Pink Floyd\n",
      "3    Whitney Houston\n",
      "4          Meat Loaf\n",
      "5             Eagles\n",
      "6           Bee Gees\n",
      "7      Fleetwood Mac\n",
      "Name: Artist, dtype: object)\n"
     ]
    }
   ],
   "source": [
    "# Write your code below and press Shift+Enter to execute\n",
    "q = df[['Released', 'Artist']]\n",
    "print(q)"
   ]
  },
  {
   "cell_type": "markdown",
   "metadata": {},
   "source": [
    "Access the 2nd row and the 3rd column of <code>df</code>:"
   ]
  },
  {
   "cell_type": "code",
   "execution_count": 30,
   "metadata": {},
   "outputs": [
    {
     "data": {
      "text/plain": [
       "Released    1980\n",
       "Name: 1, dtype: object"
      ]
     },
     "execution_count": 30,
     "metadata": {},
     "output_type": "execute_result"
    }
   ],
   "source": [
    "# Write your code below and press Shift+Enter to execute\n",
    "df.iloc[1, [2]]\n",
    "#print(df.head())"
   ]
  },
  {
   "cell_type": "markdown",
   "metadata": {},
   "source": [
    "\n",
    "<h2>The last exercise!</h2>\n"
   ]
  },
  {
   "cell_type": "markdown",
   "metadata": {},
   "source": [
    "<h3>About the Authors:</h3>  \n",
    "<p><a href=\"https://www.linkedin.com/in/joseph-s-50398b136/\" target=\"_blank\">Joseph Santarcangelo</a> is a Data Scientist at IBM, and holds a PhD in Electrical Engineering. His research focused on using Machine Learning, Signal Processing, and Computer Vision to determine how videos impact human cognition. Joseph has been working for IBM since he completed his PhD.</p>"
   ]
  },
  {
   "cell_type": "markdown",
   "metadata": {},
   "source": [
    "Other contributors: <a href=\"www.linkedin.com/in/jiahui-mavis-zhou-a4537814a\">Mavis Zhou</a>"
   ]
  },
  {
   "cell_type": "markdown",
   "metadata": {},
   "source": [
    "<hr>"
   ]
  },
  {
   "cell_type": "markdown",
   "metadata": {},
   "source": [
    "<p>Copyright &copy; 2018 IBM Developer Skills Network. This notebook and its source code are released under the terms of the <a href=\"https://cognitiveclass.ai/mit-license/\">MIT License</a>.</p>"
   ]
  }
 ],
 "metadata": {
  "anaconda-cloud": {},
  "kernelspec": {
   "display_name": "Python 3",
   "language": "python",
   "name": "python3"
  },
  "language_info": {
   "codemirror_mode": {
    "name": "ipython",
    "version": 3
   },
   "file_extension": ".py",
   "mimetype": "text/x-python",
   "name": "python",
   "nbconvert_exporter": "python",
   "pygments_lexer": "ipython3",
   "version": "3.7.3"
  },
  "varInspector": {
   "cols": {
    "lenName": 16,
    "lenType": 16,
    "lenVar": 40
   },
   "kernels_config": {
    "python": {
     "delete_cmd_postfix": "",
     "delete_cmd_prefix": "del ",
     "library": "var_list.py",
     "varRefreshCmd": "print(var_dic_list())"
    },
    "r": {
     "delete_cmd_postfix": ") ",
     "delete_cmd_prefix": "rm(",
     "library": "var_list.r",
     "varRefreshCmd": "cat(var_dic_list()) "
    }
   },
   "types_to_exclude": [
    "module",
    "function",
    "builtin_function_or_method",
    "instance",
    "_Feature"
   ],
   "window_display": false
  }
 },
 "nbformat": 4,
 "nbformat_minor": 2
}
